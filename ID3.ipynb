{
 "cells": [
  {
   "cell_type": "markdown",
   "metadata": {},
   "source": [
    "## 의사결정트리(Decision Tree) - ID3 알고리즘 수학적 접근"
   ]
  },
  {
   "cell_type": "markdown",
   "metadata": {},
   "source": [
    "Total 8 Photos\n",
    "1 photo winter family photo 7 photos Not winter family photo \n",
    "= Entropy[1 +, 7-1]) = 1(1/8) * log(1/8) - (7/8) * log(7/8) = 0.543\n",
    "\n",
    "\n",
    "Entropy = - p(+) *log(p(+)) - p(-)*log(p(-))"
   ]
  },
  {
   "cell_type": "markdown",
   "metadata": {},
   "source": [
    "Information Gain(winter family photom cartoon)\n",
    "\n",
    "= E(winter family photo) - E(winter family photo, cartoon) \n",
    "= 0.543 - (4/8 * E([0+,4-])+ 4/8 * E([1+, 3-])\n",
    "= 0.138"
   ]
  },
  {
   "cell_type": "markdown",
   "metadata": {},
   "source": [
    "Information Gain(winter family photo cartoon)\n",
    "\n",
    "= E(winter family photo) - E(winter family photo, cartoon) \n",
    "= 0.543 - (5/8 * E([1+,4-])+ 3/8 * E([0+, 3-]) = 0.093"
   ]
  },
  {
   "cell_type": "markdown",
   "metadata": {},
   "source": [
    "Information Gain(winter family photo, >1)\n",
    "\n",
    "= E(winter family photo) - E(winter family photo, cartoon) = 0.543 - (5/8 * E([1+,4-])+ 3/8 * E([0+, 3-]) = 0.093"
   ]
  }
 ],
 "metadata": {
  "kernelspec": {
   "display_name": "Python 2",
   "language": "python",
   "name": "python2"
  },
  "language_info": {
   "codemirror_mode": {
    "name": "ipython",
    "version": 2
   },
   "file_extension": ".py",
   "mimetype": "text/x-python",
   "name": "python",
   "nbconvert_exporter": "python",
   "pygments_lexer": "ipython2",
   "version": "2.7.16"
  }
 },
 "nbformat": 4,
 "nbformat_minor": 2
}
