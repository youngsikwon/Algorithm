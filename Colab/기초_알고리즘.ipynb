{
  "nbformat": 4,
  "nbformat_minor": 0,
  "metadata": {
    "colab": {
      "name": "기초 알고리즘.ipynb",
      "provenance": [],
      "authorship_tag": "ABX9TyNQA9YUZbRqlH9ZkiCfjtFJ"
    },
    "kernelspec": {
      "name": "python3",
      "display_name": "Python 3"
    }
  },
  "cells": [
    {
      "cell_type": "code",
      "metadata": {
        "id": "GEgyGokTRRZI",
        "colab_type": "code",
        "colab": {}
      },
      "source": [
        "# 혼자 힘으로 풀어보기\n",
        "# 문제 이름: 음계\n"
      ],
      "execution_count": null,
      "outputs": []
    },
    {
      "cell_type": "code",
      "metadata": {
        "id": "LL9BingJTUgN",
        "colab_type": "code",
        "colab": {}
      },
      "source": [
        "# 1. 리스트에서의 원소를 차례대로 비교합니다.\n",
        "# 2. 비교할 때 원소를 기준으로 오름차순 / 내림차순 여부를 체크합니다.\n",
        "\n",
        "# 1, 2, 3, 5, 6, 7, 4, 8\n",
        "# [초기상태]\n",
        "# 오름차순 : True\n",
        "# 내림차순 : True\n",
        "\n",
        "a = list(map(int, input().split(' ')))\n",
        "\n",
        "ascending = True\n",
        "descending = True\n",
        "\n",
        "for i in range(1, 8):\n",
        "    if a[i] > a[i - 1]:\n",
        "        descending = False\n",
        "    elif a[i] < a[i - 1]:\n",
        "        ascending = False\n",
        "\n",
        "if ascending:\n",
        "    print('ascending')\n",
        "elif descending:\n",
        "    print('descending')\n",
        "else:\n",
        "    print('mixed')"
      ],
      "execution_count": null,
      "outputs": []
    },
    {
      "cell_type": "code",
      "metadata": {
        "id": "XCFINkqlT1I1",
        "colab_type": "code",
        "colab": {}
      },
      "source": [
        "#카지노에서 제일 인기 있는 게임 블랙잭의 규칙은 상당히 쉽다. 카드의 합이 21을 넘지 않는 한도 내에서, 카드의 합을 최대한 크게 만드는 게임이다. 블랙잭은 카지노마다 다양한 규정이 있다.\n",
        "\n",
        "#한국 최고의 블랙잭 고수 김정인은 새로운 블랙잭 규칙을 만들어 상근, 창영이와 게임하려고 한다.\n",
        "\n",
        "#김정인 버전의 블랙잭에서 각 카드에는 양의 정수가 쓰여 있다. 그 다음, 딜러는 N장의 카드를 모두 숫자가 보이도록 바닥에 놓는다. 그런 후에 딜러는 숫자 M을 크게 외친다.\n",
        "\n",
        "#이제 플레이어는 제한된 시간 안에 N장의 카드 중에서 3장의 카드를 골라야 한다. 블랙잭 변형 게임이기 때문에, 플레이어가 고른 카드의 합은 M을 넘지 않으면서 M과 최대한 가깝게 만들어야 한다.\n",
        "\n",
        "#N장의 카드에 써져 있는 숫자가 주어졌을 때, M을 넘지 않으면서 M에 최대한 가까운 카드 3장의 합을 구해 출력하시오.\n",
        "\n",
        "\n",
        "# 핵심 아이디어\n",
        "#  카드 중 3개씩 뽑는 모든 경우 의 수는 C(n 3)이며, n은 최대 100입니다.\n",
        "# 따라서 단순히 3중 반복문으로 모든 경우의 수를 확인하여 문제를 해결 할 수있습니다.\n",
        "\n",
        "\n",
        "n, m = list(map(int, input().split(' ')))\n",
        "data = list(map(int, input().split(' ')))\n",
        "\n",
        "result = 0\n",
        "length = len(data)\n",
        "count = 0\n",
        "\n",
        "for i in range(0, length):\n",
        "    for j in range(i + 1, length):\n",
        "        for k in range(j + 1, length):\n",
        "            sum_value = data[i] + data[j] + data[k]\n",
        "            if sum_value <= m:\n",
        "                result = max(result, sum_value)\n",
        "\n",
        "print(result)"
      ],
      "execution_count": null,
      "outputs": []
    }
  ]
}