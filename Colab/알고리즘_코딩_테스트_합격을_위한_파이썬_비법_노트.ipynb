{
  "nbformat": 4,
  "nbformat_minor": 0,
  "metadata": {
    "colab": {
      "name": "알고리즘 코딩 테스트 합격을 위한 파이썬 비법 노트ipynb",
      "provenance": [],
      "authorship_tag": "ABX9TyM4iIpQfZNxzWhJOEN9WCtk"
    },
    "kernelspec": {
      "name": "python3",
      "display_name": "Python 3"
    }
  },
  "cells": [
    {
      "cell_type": "markdown",
      "metadata": {
        "id": "Nc1cWtNkK6oe",
        "colab_type": "text"
      },
      "source": [
        "## 알고리즘 코딩 테스트 합격을 위한 파이썬 비법 노트\n",
        "\n",
        " - 본 책은 Python 3.7 문법을 사용\n",
        " - 현재 Colab을 사용하여 이 알고리즘을 테스트할 예정입니다.\n",
        "\n",
        " "
      ]
    },
    {
      "cell_type": "markdown",
      "metadata": {
        "id": "8p2mA5Sw6qVH",
        "colab_type": "text"
      },
      "source": [
        "## 알고리즘 class 1\n",
        " "
      ]
    },
    {
      "cell_type": "code",
      "metadata": {
        "id": "0ll7hmLsLX_1",
        "colab_type": "code",
        "colab": {
          "base_uri": "https://localhost:8080/",
          "height": 35
        },
        "outputId": "f9f5f123-9509-4b0b-a915-c94f61e368ba"
      },
      "source": [
        "# Part 1 코딩 테스트 시작\n",
        " # 가벼운 테스트 \n",
        "\n",
        "n = 1260\n",
        "count = 0\n",
        "\n",
        "# 큰 단위의 화폐부터 차례대로 확인하기\n",
        "list = [500, 100, 50, 10]\n",
        "\n",
        "for coin in list:\n",
        "    count += n // coin # 해당 화폐로 거슬러 줄 수 있는 동전의 개수 세기\n",
        "    n %= coin\n",
        "\n",
        "print(count)"
      ],
      "execution_count": 1,
      "outputs": [
        {
          "output_type": "stream",
          "text": [
            "6\n"
          ],
          "name": "stdout"
        }
      ]
    },
    {
      "cell_type": "markdown",
      "metadata": {
        "id": "jbFaEfpdMyag",
        "colab_type": "text"
      },
      "source": [
        "### "
      ]
    },
    {
      "cell_type": "code",
      "metadata": {
        "id": "PcY8KYu7L0_U",
        "colab_type": "code",
        "colab": {
          "base_uri": "https://localhost:8080/",
          "height": 262
        },
        "outputId": "d81603f4-cedc-41ec-e6c3-54343f2cae18"
      },
      "source": [
        "# N, M, K를 공백을 기준으로 구분하여 입력 받기\n",
        "n, m, k = map(int, input().split())\n",
        "# N개의 수를 공백을 기준으로 구분하여 입력 받기\n",
        "data = list(map(int, input().split()))\n",
        "\n",
        "data.sort() # 입력 받은 수들 정렬하기\n",
        "first = data[n - 1] # 가장 큰 수\n",
        "second = data[n - 2] # 두 번째로 큰 수\n",
        "\n",
        "# 가장 큰 수가 더해지는 횟수 계산\n",
        "count = int(m / (k + 1)) * k\n",
        "count += m % (k + 1)\n",
        "\n",
        "result = 0\n",
        "result += (count) * first # 가장 큰 수 더하기\n",
        "result += (m - count) * second # 두 번째로 큰 수 더하기\n",
        "\n",
        "print(result) # 최종 답안 출력"
      ],
      "execution_count": 2,
      "outputs": [
        {
          "output_type": "stream",
          "text": [
            "33\n"
          ],
          "name": "stdout"
        },
        {
          "output_type": "error",
          "ename": "ValueError",
          "evalue": "ignored",
          "traceback": [
            "\u001b[0;31m---------------------------------------------------------------------------\u001b[0m",
            "\u001b[0;31mValueError\u001b[0m                                Traceback (most recent call last)",
            "\u001b[0;32m<ipython-input-2-63685ad82952>\u001b[0m in \u001b[0;36m<module>\u001b[0;34m()\u001b[0m\n\u001b[1;32m      1\u001b[0m \u001b[0;31m# N, M, K를 공백을 기준으로 구분하여 입력 받기\u001b[0m\u001b[0;34m\u001b[0m\u001b[0;34m\u001b[0m\u001b[0;34m\u001b[0m\u001b[0m\n\u001b[0;32m----> 2\u001b[0;31m \u001b[0mn\u001b[0m\u001b[0;34m,\u001b[0m \u001b[0mm\u001b[0m\u001b[0;34m,\u001b[0m \u001b[0mk\u001b[0m \u001b[0;34m=\u001b[0m \u001b[0mmap\u001b[0m\u001b[0;34m(\u001b[0m\u001b[0mint\u001b[0m\u001b[0;34m,\u001b[0m \u001b[0minput\u001b[0m\u001b[0;34m(\u001b[0m\u001b[0;34m)\u001b[0m\u001b[0;34m.\u001b[0m\u001b[0msplit\u001b[0m\u001b[0;34m(\u001b[0m\u001b[0;34m)\u001b[0m\u001b[0;34m)\u001b[0m\u001b[0;34m\u001b[0m\u001b[0;34m\u001b[0m\u001b[0m\n\u001b[0m\u001b[1;32m      3\u001b[0m \u001b[0;31m# N개의 수를 공백을 기준으로 구분하여 입력 받기\u001b[0m\u001b[0;34m\u001b[0m\u001b[0;34m\u001b[0m\u001b[0;34m\u001b[0m\u001b[0m\n\u001b[1;32m      4\u001b[0m \u001b[0mdata\u001b[0m \u001b[0;34m=\u001b[0m \u001b[0mlist\u001b[0m\u001b[0;34m(\u001b[0m\u001b[0mmap\u001b[0m\u001b[0;34m(\u001b[0m\u001b[0mint\u001b[0m\u001b[0;34m,\u001b[0m \u001b[0minput\u001b[0m\u001b[0;34m(\u001b[0m\u001b[0;34m)\u001b[0m\u001b[0;34m.\u001b[0m\u001b[0msplit\u001b[0m\u001b[0;34m(\u001b[0m\u001b[0;34m)\u001b[0m\u001b[0;34m)\u001b[0m\u001b[0;34m)\u001b[0m\u001b[0;34m\u001b[0m\u001b[0;34m\u001b[0m\u001b[0m\n\u001b[1;32m      5\u001b[0m \u001b[0;34m\u001b[0m\u001b[0m\n",
            "\u001b[0;31mValueError\u001b[0m: not enough values to unpack (expected 3, got 1)"
          ]
        }
      ]
    },
    {
      "cell_type": "code",
      "metadata": {
        "id": "aHIahFyDSEZu",
        "colab_type": "code",
        "colab": {
          "base_uri": "https://localhost:8080/",
          "height": 262
        },
        "outputId": "bd7ed0cd-2bae-4965-8a27-962f316d76fc"
      },
      "source": [
        "# N, M을 공백을 기준으로 구분하여 입력 받기\n",
        "n, m = map(int, input().split())\n",
        "\n",
        "result = 0\n",
        "# 한 줄씩 입력 받아 확인하기\n",
        "for i in range(n):\n",
        "    data = list(map(int, input().split()))\n",
        "    # 현재 줄에서 '가장 작은 수' 찾기\n",
        "    min_value = min(data)\n",
        "    # '가장 작은 수'들 중에서 가장 큰 수 찾기\n",
        "    result = max(result, min_value)\n",
        "\n",
        "print(result) # 최종 답안 출력"
      ],
      "execution_count": 4,
      "outputs": [
        {
          "output_type": "stream",
          "text": [
            "n\n"
          ],
          "name": "stdout"
        },
        {
          "output_type": "error",
          "ename": "ValueError",
          "evalue": "ignored",
          "traceback": [
            "\u001b[0;31m---------------------------------------------------------------------------\u001b[0m",
            "\u001b[0;31mValueError\u001b[0m                                Traceback (most recent call last)",
            "\u001b[0;32m<ipython-input-4-ba689193e87d>\u001b[0m in \u001b[0;36m<module>\u001b[0;34m()\u001b[0m\n\u001b[1;32m      1\u001b[0m \u001b[0;31m# N, M을 공백을 기준으로 구분하여 입력 받기\u001b[0m\u001b[0;34m\u001b[0m\u001b[0;34m\u001b[0m\u001b[0;34m\u001b[0m\u001b[0m\n\u001b[0;32m----> 2\u001b[0;31m \u001b[0mn\u001b[0m\u001b[0;34m,\u001b[0m \u001b[0mm\u001b[0m \u001b[0;34m=\u001b[0m \u001b[0mmap\u001b[0m\u001b[0;34m(\u001b[0m\u001b[0mint\u001b[0m\u001b[0;34m,\u001b[0m \u001b[0minput\u001b[0m\u001b[0;34m(\u001b[0m\u001b[0;34m)\u001b[0m\u001b[0;34m.\u001b[0m\u001b[0msplit\u001b[0m\u001b[0;34m(\u001b[0m\u001b[0;34m)\u001b[0m\u001b[0;34m)\u001b[0m\u001b[0;34m\u001b[0m\u001b[0;34m\u001b[0m\u001b[0m\n\u001b[0m\u001b[1;32m      3\u001b[0m \u001b[0;34m\u001b[0m\u001b[0m\n\u001b[1;32m      4\u001b[0m \u001b[0mresult\u001b[0m \u001b[0;34m=\u001b[0m \u001b[0;36m0\u001b[0m\u001b[0;34m\u001b[0m\u001b[0;34m\u001b[0m\u001b[0m\n\u001b[1;32m      5\u001b[0m \u001b[0;31m# 한 줄씩 입력 받아 확인하기\u001b[0m\u001b[0;34m\u001b[0m\u001b[0;34m\u001b[0m\u001b[0;34m\u001b[0m\u001b[0m\n",
            "\u001b[0;31mValueError\u001b[0m: invalid literal for int() with base 10: 'n'"
          ]
        }
      ]
    },
    {
      "cell_type": "code",
      "metadata": {
        "id": "1cb6VYOe53vK",
        "colab_type": "code",
        "colab": {
          "base_uri": "https://localhost:8080/",
          "height": 262
        },
        "outputId": "054e1370-f08a-4530-b04c-2725f2ce04b6"
      },
      "source": [
        "# N, M을 공백을 기준으로 구분하여 입력 받기\n",
        "\n",
        "n, m = map(int, input().split())\n",
        "\n",
        "result = 0\n",
        "\n",
        "# 한 줄씩 입력 받아 확인하기\n",
        "for i in range(n):\n",
        "  data = list(map(int, input().split()))\n",
        "  # 현재 줄에서 ' 가장 적은 수 ' 찾기\n",
        "  min_value = min(data)\n",
        "  # '가장 작은 수'들 중에서 가장 큰 수 찾기\n",
        "  result = amx(result, min_value)\n",
        "\n",
        "\n",
        "print(result)"
      ],
      "execution_count": 5,
      "outputs": [
        {
          "output_type": "stream",
          "text": [
            "n\n"
          ],
          "name": "stdout"
        },
        {
          "output_type": "error",
          "ename": "ValueError",
          "evalue": "ignored",
          "traceback": [
            "\u001b[0;31m---------------------------------------------------------------------------\u001b[0m",
            "\u001b[0;31mValueError\u001b[0m                                Traceback (most recent call last)",
            "\u001b[0;32m<ipython-input-5-d61cefdbfc23>\u001b[0m in \u001b[0;36m<module>\u001b[0;34m()\u001b[0m\n\u001b[1;32m      1\u001b[0m \u001b[0;31m# N, M을 공백을 기준으로 구분하여 입력 받기\u001b[0m\u001b[0;34m\u001b[0m\u001b[0;34m\u001b[0m\u001b[0;34m\u001b[0m\u001b[0m\n\u001b[1;32m      2\u001b[0m \u001b[0;34m\u001b[0m\u001b[0m\n\u001b[0;32m----> 3\u001b[0;31m \u001b[0mn\u001b[0m\u001b[0;34m,\u001b[0m \u001b[0mm\u001b[0m \u001b[0;34m=\u001b[0m \u001b[0mmap\u001b[0m\u001b[0;34m(\u001b[0m\u001b[0mint\u001b[0m\u001b[0;34m,\u001b[0m \u001b[0minput\u001b[0m\u001b[0;34m(\u001b[0m\u001b[0;34m)\u001b[0m\u001b[0;34m.\u001b[0m\u001b[0msplit\u001b[0m\u001b[0;34m(\u001b[0m\u001b[0;34m)\u001b[0m\u001b[0;34m)\u001b[0m\u001b[0;34m\u001b[0m\u001b[0;34m\u001b[0m\u001b[0m\n\u001b[0m\u001b[1;32m      4\u001b[0m \u001b[0;34m\u001b[0m\u001b[0m\n\u001b[1;32m      5\u001b[0m \u001b[0mresult\u001b[0m \u001b[0;34m=\u001b[0m \u001b[0;36m0\u001b[0m\u001b[0;34m\u001b[0m\u001b[0;34m\u001b[0m\u001b[0m\n",
            "\u001b[0;31mValueError\u001b[0m: invalid literal for int() with base 10: 'n'"
          ]
        }
      ]
    },
    {
      "cell_type": "code",
      "metadata": {
        "id": "DCrHMJwb6l0w",
        "colab_type": "code",
        "colab": {}
      },
      "source": [
        "# N, K을 공백을 기준으로 구분하여 입력 받기\n",
        "n, k = map(int, input().split())\n",
        "\n",
        "result = 0\n",
        "\n",
        "while True:\n",
        "    # N이 K로 나누어 떨어지는 수가 될 때까지만 1씩 빼기\n",
        "    target = (n // k) * k\n",
        "    result += (n - target)\n",
        "    n = target\n",
        "    # N이 K보다 작을 때 (더 이상 나눌 수 없을 때) 반복문 탈출\n",
        "    if n < k:\n",
        "        break\n",
        "    # K로 나누기\n",
        "    result += 1\n",
        "    n //= k\n",
        "\n",
        "# 마지막으로 남은 수에 대하여 1씩 빼기\n",
        "result += (n - 1)\n",
        "print(result)"
      ],
      "execution_count": null,
      "outputs": []
    },
    {
      "cell_type": "markdown",
      "metadata": {
        "id": "TiqEOiyvLHIa",
        "colab_type": "text"
      },
      "source": [
        "# class 2"
      ]
    },
    {
      "cell_type": "code",
      "metadata": {
        "id": "712SU2PY7AZT",
        "colab_type": "code",
        "colab": {}
      },
      "source": [
        "# N 입력 받기\n",
        "n = int(input())\n",
        "x, y = 1, 1\n",
        "plans = input().split()\n",
        "\n",
        "# L, R, U, D에 따른 이동 방향\n",
        "dx = [0, 0, -1, 1]\n",
        "dy = [-1, 1, 0, 0]\n",
        "move_types = ['L', 'R', 'U', 'D']\n",
        "\n",
        "# 이동 계획을 하나씩 확인하기\n",
        "for plan in plans:\n",
        "    # 이동 후 좌표 구하기\n",
        "    for i in range(len(move_types)):\n",
        "        if plan == move_types[i]:\n",
        "            nx = x + dx[i]\n",
        "            ny = y + dy[i]\n",
        "    # 공간을 벗어나는 경우 무시\n",
        "    if nx < 1 or ny < 1 or nx > n or ny > n:\n",
        "        continue\n",
        "    # 이동 수행\n",
        "    x, y = nx, ny\n",
        "\n",
        "print(x, y)"
      ],
      "execution_count": null,
      "outputs": []
    }
  ]
}