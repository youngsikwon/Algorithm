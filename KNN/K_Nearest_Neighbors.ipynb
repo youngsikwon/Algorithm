{
  "nbformat": 4,
  "nbformat_minor": 0,
  "metadata": {
    "colab": {
      "name": "K-Nearest-Neighbors.ipynb",
      "provenance": [],
      "authorship_tag": "ABX9TyNkWaMem2f4vGrGawX2CPE5"
    },
    "kernelspec": {
      "name": "python3",
      "display_name": "Python 3"
    }
  },
  "cells": [
    {
      "cell_type": "markdown",
      "metadata": {
        "id": "julDHBBFsWlz",
        "colab_type": "text"
      },
      "source": [
        "#'거리 측정(Distance measurement)'을 이용하여 분류하기\n",
        "\n",
        "\n",
        " - KNN 알고리즘\n",
        "\n",
        "  장점 : 높은 정확도, 오류데이터(outlier)에 둔감, 데이터에 대한 가정이 없음\n",
        "  단점 : 계산 비용이 높음, 많은 메모리 요구\n",
        "  적용 : 수치형 값, 명목형 값\n",
        "  동작\n",
        "    1. 모든 데이터는 분류 항목 표시(Label)가 붙어 있음(예제 데이터 집합)\n",
        "    2. Label이 붙어 있지 않은 새로운 데이터가 주어졌을 떄, 기존의 모든 데이터와 새로운 데이터를 비교\n",
        "    3. 가장 유사한 데이터(즉, 가장 근접한 이웃)의 분류 항목을 살펴 봄\n",
        "    4. 분류 항목을 이미 알고 있는 데이터 집합에서 상우ㅏ K개의 가장 유사한 데이터르 살펴 봄\n",
        "    5. K개의 가장 유사한 데이터들 중 다수결(Majority vote)를 통해 새로운 데이터의 분류 항목을 결정!\n",
        "\n",
        "![image.png](data:image/png;base64,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)\n",
        "\n",
        "\n",
        "\n",
        "\n",
        "\n",
        "- 일반적인 접근방법\n",
        " 1. 데이터 수집 : 모든방법\n",
        " 2. 준비 : 수치형 값(거리를 계산하기 위해 필요하며, 구조적으로 표현된 데이터 형식이 제일 좋음!)\n",
        " 3. 분석 : 모든 방법\n",
        " 4. 훈련 : KNN 해당하지 않음\n",
        " 5. 검사 : 오류율(error rate)계산\n",
        " 6. 사용\n",
        "  - * 오류율(Error rate) : 분류기가 뎅터를 잘못 분류한 횟수를 합산하여 제공된 데이터를 검사한 총 횟수로 나눈 것."
      ]
    },
    {
      "cell_type": "markdown",
      "metadata": {
        "id": "q2YolS_CtpUE",
        "colab_type": "text"
      },
      "source": [
        "# KNN 알고리즘 실습\n",
        " - 환경설정\n",
        "  - Python version : 2.7\n",
        "  - Editor : Colab\n"
      ]
    },
    {
      "cell_type": "markdown",
      "metadata": {
        "id": "hNoVzMJMt41j",
        "colab_type": "text"
      },
      "source": [
        "# 파이썬으로 데이터 불러오기\n"
      ]
    },
    {
      "cell_type": "code",
      "metadata": {
        "id": "hiuUws1Ft6iD",
        "colab_type": "code",
        "colab": {
          "base_uri": "https://localhost:8080/",
          "height": 105
        },
        "outputId": "51ee2d9c-09e3-4013-c4c2-c462dccfe6cf"
      },
      "source": [
        "from numpy import * # 과학용 계산 패키지\n",
        "import operator # 정렬 기능 제공하는 라이브러리\n",
        "\n",
        "\n",
        "def createDataSet():\n",
        "  group = array([[1.0,1.1], [1.0,1.0], [0,0], [0,0.1]])\n",
        "  labels = ['A', 'A', 'B', 'B']\n",
        "  return group, labels\n",
        "\n",
        "\n",
        "\n",
        "group, labels = createDataSet()\n",
        "print(group)\n",
        "print(labels)"
      ],
      "execution_count": 1,
      "outputs": [
        {
          "output_type": "stream",
          "text": [
            "[[1.  1.1]\n",
            " [1.  1. ]\n",
            " [0.  0. ]\n",
            " [0.  0.1]]\n",
            "['A', 'A', 'B', 'B']\n"
          ],
          "name": "stdout"
        }
      ]
    },
    {
      "cell_type": "markdown",
      "metadata": {
        "id": "WNCcvPeDuxvT",
        "colab_type": "text"
      },
      "source": [
        "# KNN 분류 알고리즘 실행하기\n",
        "\n"
      ]
    },
    {
      "cell_type": "code",
      "metadata": {
        "id": "Kra59iREu0Fi",
        "colab_type": "code",
        "colab": {
          "base_uri": "https://localhost:8080/",
          "height": 240
        },
        "outputId": "1500680c-db8e-46a6-b422-61bb1a78d1eb"
      },
      "source": [
        "def file2matrix(filename):\n",
        "    fr = open(filename)\n",
        " \n",
        "    numberOfLines = len(fr.readlines())         #get the number of lines in the file\n",
        "    returnMat = zeros((numberOfLines,3))        #prepare matrix to return\n",
        "    classLabelVector = []                       #prepare labels return   \n",
        "    index = 0\n",
        " \n",
        " \n",
        "    fr = open(filename)\n",
        "    \n",
        "    for line in fr.readlines():\n",
        "        line = line.strip()\n",
        "        listFromLine = line.split('\\t')\n",
        "        returnMat[index, :] = listFromLine[0:3]\n",
        "        classLabelVector.append(listFromLine[-1])\n",
        "        index += 1\n",
        " \n",
        "    return returnMat,classLabelVector\n",
        "\n",
        "\n",
        "\n"
      ],
      "execution_count": 7,
      "outputs": [
        {
          "output_type": "error",
          "ename": "NameError",
          "evalue": "ignored",
          "traceback": [
            "\u001b[0;31m---------------------------------------------------------------------------\u001b[0m",
            "\u001b[0;31mNameError\u001b[0m                                 Traceback (most recent call last)",
            "\u001b[0;32m<ipython-input-7-dedcdbf86b49>\u001b[0m in \u001b[0;36m<module>\u001b[0;34m()\u001b[0m\n\u001b[1;32m     20\u001b[0m \u001b[0;34m\u001b[0m\u001b[0m\n\u001b[1;32m     21\u001b[0m     \u001b[0mdatingDataMat\u001b[0m\u001b[0;34m,\u001b[0m \u001b[0mdatingLabels\u001b[0m \u001b[0;34m=\u001b[0m \u001b[0mfile2matrix\u001b[0m\u001b[0;34m(\u001b[0m\u001b[0;34m'datingTestSet.txt'\u001b[0m\u001b[0;34m)\u001b[0m\u001b[0;34m\u001b[0m\u001b[0;34m\u001b[0m\u001b[0m\n\u001b[0;32m---> 22\u001b[0;31m \u001b[0mprint\u001b[0m\u001b[0;34m(\u001b[0m\u001b[0mdatingDataMat\u001b[0m\u001b[0;34m)\u001b[0m\u001b[0;34m\u001b[0m\u001b[0;34m\u001b[0m\u001b[0m\n\u001b[0m\u001b[1;32m     23\u001b[0m \u001b[0mprint\u001b[0m\u001b[0;34m(\u001b[0m\u001b[0mdatingLabels\u001b[0m\u001b[0;34m[\u001b[0m\u001b[0;36m0\u001b[0m\u001b[0;34m:\u001b[0m\u001b[0;36m20\u001b[0m\u001b[0;34m]\u001b[0m\u001b[0;34m)\u001b[0m\u001b[0;34m\u001b[0m\u001b[0;34m\u001b[0m\u001b[0m\n\u001b[1;32m     24\u001b[0m \u001b[0;34m\u001b[0m\u001b[0m\n",
            "\u001b[0;31mNameError\u001b[0m: name 'datingDataMat' is not defined"
          ]
        }
      ]
    },
    {
      "cell_type": "code",
      "metadata": {
        "id": "moO9brGp3-sT",
        "colab_type": "code",
        "colab": {
          "base_uri": "https://localhost:8080/",
          "height": 327
        },
        "outputId": "0d92bce4-e5c7-4517-85a3-b82146dc394e"
      },
      "source": [
        "datingDataMat, datingLabels = file2matrix('datingTestSet.txt')\n",
        "print (datingDataMat)\n",
        "print (datingLabels[0:20])"
      ],
      "execution_count": 9,
      "outputs": [
        {
          "output_type": "error",
          "ename": "FileNotFoundError",
          "evalue": "ignored",
          "traceback": [
            "\u001b[0;31m---------------------------------------------------------------------------\u001b[0m",
            "\u001b[0;31mFileNotFoundError\u001b[0m                         Traceback (most recent call last)",
            "\u001b[0;32m<ipython-input-9-f1a6e9da136c>\u001b[0m in \u001b[0;36m<module>\u001b[0;34m()\u001b[0m\n\u001b[0;32m----> 1\u001b[0;31m \u001b[0mdatingDataMat\u001b[0m\u001b[0;34m,\u001b[0m \u001b[0mdatingLabels\u001b[0m \u001b[0;34m=\u001b[0m \u001b[0mfile2matrix\u001b[0m\u001b[0;34m(\u001b[0m\u001b[0;34m'datingTestSet.txt'\u001b[0m\u001b[0;34m)\u001b[0m\u001b[0;34m\u001b[0m\u001b[0;34m\u001b[0m\u001b[0m\n\u001b[0m\u001b[1;32m      2\u001b[0m \u001b[0mprint\u001b[0m \u001b[0;34m(\u001b[0m\u001b[0mdatingDataMat\u001b[0m\u001b[0;34m)\u001b[0m\u001b[0;34m\u001b[0m\u001b[0;34m\u001b[0m\u001b[0m\n\u001b[1;32m      3\u001b[0m \u001b[0mprint\u001b[0m \u001b[0;34m(\u001b[0m\u001b[0mdatingLabels\u001b[0m\u001b[0;34m[\u001b[0m\u001b[0;36m0\u001b[0m\u001b[0;34m:\u001b[0m\u001b[0;36m20\u001b[0m\u001b[0;34m]\u001b[0m\u001b[0;34m)\u001b[0m\u001b[0;34m\u001b[0m\u001b[0;34m\u001b[0m\u001b[0m\n",
            "\u001b[0;32m<ipython-input-7-dedcdbf86b49>\u001b[0m in \u001b[0;36mfile2matrix\u001b[0;34m(filename)\u001b[0m\n\u001b[1;32m      1\u001b[0m \u001b[0;32mdef\u001b[0m \u001b[0mfile2matrix\u001b[0m\u001b[0;34m(\u001b[0m\u001b[0mfilename\u001b[0m\u001b[0;34m)\u001b[0m\u001b[0;34m:\u001b[0m\u001b[0;34m\u001b[0m\u001b[0;34m\u001b[0m\u001b[0m\n\u001b[0;32m----> 2\u001b[0;31m     \u001b[0mfr\u001b[0m \u001b[0;34m=\u001b[0m \u001b[0mopen\u001b[0m\u001b[0;34m(\u001b[0m\u001b[0mfilename\u001b[0m\u001b[0;34m)\u001b[0m\u001b[0;34m\u001b[0m\u001b[0;34m\u001b[0m\u001b[0m\n\u001b[0m\u001b[1;32m      3\u001b[0m \u001b[0;34m\u001b[0m\u001b[0m\n\u001b[1;32m      4\u001b[0m     \u001b[0mnumberOfLines\u001b[0m \u001b[0;34m=\u001b[0m \u001b[0mlen\u001b[0m\u001b[0;34m(\u001b[0m\u001b[0mfr\u001b[0m\u001b[0;34m.\u001b[0m\u001b[0mreadlines\u001b[0m\u001b[0;34m(\u001b[0m\u001b[0;34m)\u001b[0m\u001b[0;34m)\u001b[0m         \u001b[0;31m#get the number of lines in the file\u001b[0m\u001b[0;34m\u001b[0m\u001b[0;34m\u001b[0m\u001b[0m\n\u001b[1;32m      5\u001b[0m     \u001b[0mreturnMat\u001b[0m \u001b[0;34m=\u001b[0m \u001b[0mzeros\u001b[0m\u001b[0;34m(\u001b[0m\u001b[0;34m(\u001b[0m\u001b[0mnumberOfLines\u001b[0m\u001b[0;34m,\u001b[0m\u001b[0;36m3\u001b[0m\u001b[0;34m)\u001b[0m\u001b[0;34m)\u001b[0m        \u001b[0;31m#prepare matrix to return\u001b[0m\u001b[0;34m\u001b[0m\u001b[0;34m\u001b[0m\u001b[0m\n",
            "\u001b[0;31mFileNotFoundError\u001b[0m: [Errno 2] No such file or directory: 'datingTestSet.txt'"
          ]
        }
      ]
    }
  ]
}