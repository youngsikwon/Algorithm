{
  "nbformat": 4,
  "nbformat_minor": 0,
  "metadata": {
    "colab": {
      "name": "Diabetes.ipynb",
      "provenance": [],
      "collapsed_sections": [],
      "include_colab_link": true
    },
    "kernelspec": {
      "name": "python3",
      "display_name": "Python 3"
    }
  },
  "cells": [
    {
      "cell_type": "markdown",
      "metadata": {
        "id": "view-in-github",
        "colab_type": "text"
      },
      "source": [
        "<a href=\"https://colab.research.google.com/github/Zero-Sik/Algorithm/blob/master/Diabetes.ipynb\" target=\"_parent\"><img src=\"https://colab.research.google.com/assets/colab-badge.svg\" alt=\"Open In Colab\"/></a>"
      ]
    },
    {
      "cell_type": "markdown",
      "metadata": {
        "id": "RaycN2PLTe81",
        "colab_type": "text"
      },
      "source": [
        "사이킷런에서 당뇨병 환자 데이터 가져오기 \n",
        "\n",
        "\n",
        "\n",
        "1. load_diabetes() 함수로 당뇨병 데이터 준비하기\n",
        "사이킷런의 datasets 모듈에 있는 load_diabetes 함수를 임포트한 후 매개변수 값을 넣지 않은 채로 함수를 호출하면 diabetes에 당뇨병 데이터가 저장됩니다."
      ]
    },
    {
      "cell_type": "code",
      "metadata": {
        "id": "efyTwrFYTd0c",
        "colab_type": "code",
        "colab": {}
      },
      "source": [
        "from sklearn.datasets import load_diabetes\n",
        "diabetes = load_diabetes()"
      ],
      "execution_count": 0,
      "outputs": []
    },
    {
      "cell_type": "code",
      "metadata": {
        "id": "0AsGjp38T1Xg",
        "colab_type": "code",
        "outputId": "302fa760-ebbf-49f4-99ee-17a66bfaa076",
        "colab": {
          "base_uri": "https://localhost:8080/",
          "height": 34
        }
      },
      "source": [
        "print(diabetes.data.shape, diabetes.target.shape) # 입력 데이터와 타깃 데이터의 크기를 확인."
      ],
      "execution_count": 0,
      "outputs": [
        {
          "output_type": "stream",
          "text": [
            "(442, 10) (442,)\n"
          ],
          "name": "stdout"
        }
      ]
    },
    {
      "cell_type": "markdown",
      "metadata": {
        "id": "A4zb6KciUcZM",
        "colab_type": "text"
      },
      "source": [
        "diabets.data를 보면 442개의 행과 10개의 열로 구성 되었있음을 알 수 있다.  행은 샘플이고 열은 샘플의 특성입니다. \n"
      ]
    },
    {
      "cell_type": "code",
      "metadata": {
        "id": "kyaEIgt5USId",
        "colab_type": "code",
        "outputId": "f0f2b156-e80a-4cad-cb92-f394f4517eea",
        "colab": {
          "base_uri": "https://localhost:8080/",
          "height": 119
        }
      },
      "source": [
        "diabetes.data[0:3] # 특성의 값은 10개인데 그 중 3 x 10 의 크기를 나타냄."
      ],
      "execution_count": 0,
      "outputs": [
        {
          "output_type": "execute_result",
          "data": {
            "text/plain": [
              "array([[ 0.03807591,  0.05068012,  0.06169621,  0.02187235, -0.0442235 ,\n",
              "        -0.03482076, -0.04340085, -0.00259226,  0.01990842, -0.01764613],\n",
              "       [-0.00188202, -0.04464164, -0.05147406, -0.02632783, -0.00844872,\n",
              "        -0.01916334,  0.07441156, -0.03949338, -0.06832974, -0.09220405],\n",
              "       [ 0.08529891,  0.05068012,  0.04445121, -0.00567061, -0.04559945,\n",
              "        -0.03419447, -0.03235593, -0.00259226,  0.00286377, -0.02593034]])"
            ]
          },
          "metadata": {
            "tags": []
          },
          "execution_count": 4
        }
      ]
    },
    {
      "cell_type": "markdown",
      "metadata": {
        "id": "M1TO6-AtU13y",
        "colab_type": "text"
      },
      "source": [
        "타깃 데이터 자세히 보기\n"
      ]
    },
    {
      "cell_type": "code",
      "metadata": {
        "id": "S2_FoWHDU4Kz",
        "colab_type": "code",
        "outputId": "247e6931-a2f8-43d4-c5f5-5fc35c0265ef",
        "colab": {
          "base_uri": "https://localhost:8080/",
          "height": 34
        }
      },
      "source": [
        "diabetes.target[:3]"
      ],
      "execution_count": 0,
      "outputs": [
        {
          "output_type": "execute_result",
          "data": {
            "text/plain": [
              "array([151.,  75., 141.])"
            ]
          },
          "metadata": {
            "tags": []
          },
          "execution_count": 5
        }
      ]
    },
    {
      "cell_type": "markdown",
      "metadata": {
        "id": "gpZIA3PmVFzb",
        "colab_type": "text"
      },
      "source": [
        "당뇨병 데이터들을 샘플과 속성을 만들었으면, 이제는 시각화를 만들 것입니다. \n",
        "맷플롯립의 scatter() 함수로 산점도 그리기"
      ]
    },
    {
      "cell_type": "markdown",
      "metadata": {
        "id": "svM7aJQVVp6m",
        "colab_type": "text"
      },
      "source": [
        "x축은 : diabetes.data의 세 번째 툭성이고, y축은 diabetes.taget입니다."
      ]
    },
    {
      "cell_type": "code",
      "metadata": {
        "id": "HCBKf3ObVPFS",
        "colab_type": "code",
        "outputId": "bce72564-8770-4d96-eefe-23dfd14bd77f",
        "colab": {
          "base_uri": "https://localhost:8080/",
          "height": 279
        }
      },
      "source": [
        "import matplotlib.pyplot as plt\n",
        "plt.scatter(diabetes.data[:,3], diabetes.target)\n",
        "\n",
        "plt.xlabel('x')\n",
        "plt.ylabel('y')\n",
        "plt.show()"
      ],
      "execution_count": 0,
      "outputs": [
        {
          "output_type": "display_data",
          "data": {
            "image/png": "[encoded data removed]",
            "text/plain": [
              "<Figure size 432x288 with 1 Axes>"
            ]
          },
          "metadata": {
            "tags": []
          }
        }
      ]
    },
    {
      "cell_type": "markdown",
      "metadata": {
        "id": "4MpOc1_AV2Mh",
        "colab_type": "text"
      },
      "source": [
        "훈련 데이터 준비하기\n",
        "\n",
        "매번 diabetes.data를 입력하여 입력 데이터의 속성을 참고하는 방법은 번거로우니 입력 데이터의 세 번째을 미리 분리하여 변수 x에 저장하고 타깃 데이터는 변수 y에 저장함.\n"
      ]
    },
    {
      "cell_type": "code",
      "metadata": {
        "id": "C7Oh9jIUWEE7",
        "colab_type": "code",
        "colab": {}
      },
      "source": [
        "x = diabetes.data[:,2]\n",
        "y = diabetes.target\n",
        "\n",
        "# 회귀 알고리즘 중 선형 회귀 알고리즘의 개념을 알아보고 실제 알고리즘을 만들어보기 위한 당뇨병 데이터 세트를 준비 완료 했다.\n",
        "# 이 데이터를 가지고 모델 훈련하기 위한 핵심 최적화 알고리즘인 경사 하강법(gradientdescent)로 사용할 것."
      ],
      "execution_count": 0,
      "outputs": []
    },
    {
      "cell_type": "markdown",
      "metadata": {
        "id": "UmsuaTj9XS45",
        "colab_type": "text"
      },
      "source": [
        "훈련 데이터에 맞는 w와 b 찾아보기\n"
      ]
    },
    {
      "cell_type": "code",
      "metadata": {
        "id": "zEF7BmZqXYcg",
        "colab_type": "code",
        "colab": {}
      },
      "source": [
        "w = 1.0\n",
        "b = 1.0\n"
      ],
      "execution_count": 0,
      "outputs": []
    },
    {
      "cell_type": "markdown",
      "metadata": {
        "id": "Ctr7nPAxXdx1",
        "colab_type": "text"
      },
      "source": [
        "훈련 데이터의 첫 번째 샘플 데이터로 얻기\n"
      ]
    },
    {
      "cell_type": "code",
      "metadata": {
        "id": "6f29AC4OXiYh",
        "colab_type": "code",
        "outputId": "c122dd9e-d158-4b58-beee-e2aa51ea4779",
        "colab": {
          "base_uri": "https://localhost:8080/",
          "height": 34
        }
      },
      "source": [
        "y_hat = x[0] * w + b\n",
        "print(y_hat)"
      ],
      "execution_count": 0,
      "outputs": [
        {
          "output_type": "stream",
          "text": [
            "1.0616962065186886\n"
          ],
          "name": "stdout"
        }
      ]
    },
    {
      "cell_type": "markdown",
      "metadata": {
        "id": "dQXi1TXgXokp",
        "colab_type": "text"
      },
      "source": [
        "타깃과 예측 데이터 비교하기\n"
      ]
    },
    {
      "cell_type": "code",
      "metadata": {
        "id": "rR9m_c9uXrBB",
        "colab_type": "code",
        "outputId": "a0dbbc71-baf4-4f8f-9e84-e98870e76eef",
        "colab": {
          "base_uri": "https://localhost:8080/",
          "height": 34
        }
      },
      "source": [
        "print(y[0]) # x[0]에 대응하는 타깃값y[0]을 출력하여 y_hat의 값과 비교"
      ],
      "execution_count": 0,
      "outputs": [
        {
          "output_type": "stream",
          "text": [
            "151.0\n"
          ],
          "name": "stdout"
        }
      ]
    },
    {
      "cell_type": "markdown",
      "metadata": {
        "id": "Xc3b5x6rX5Xz",
        "colab_type": "text"
      },
      "source": [
        "w값 조절해 예측값 바꾸기"
      ]
    },
    {
      "cell_type": "code",
      "metadata": {
        "id": "UPKWhkEBX7ez",
        "colab_type": "code",
        "outputId": "c61e25a3-079a-4661-acf4-f4f996daded1",
        "colab": {
          "base_uri": "https://localhost:8080/",
          "height": 34
        }
      },
      "source": [
        "w_inc = w + 0.1\n",
        "y_hat_inc = x[0] * w_inc + b\n",
        "print(y_hat)"
      ],
      "execution_count": 0,
      "outputs": [
        {
          "output_type": "stream",
          "text": [
            "1.0616962065186886\n"
          ],
          "name": "stdout"
        }
      ]
    },
    {
      "cell_type": "markdown",
      "metadata": {
        "id": "CTbNb56CYNPO",
        "colab_type": "text"
      },
      "source": [
        "w 값 조정한 후 예측값 증가 정도 확인\n"
      ]
    },
    {
      "cell_type": "code",
      "metadata": {
        "id": "KJ0QJhfcYRHR",
        "colab_type": "code",
        "outputId": "925c67dc-cfd9-4a37-e97e-60f1c4d28d8a",
        "colab": {
          "base_uri": "https://localhost:8080/",
          "height": 34
        }
      },
      "source": [
        "w_rate = (y_hat_inc - y_hat) / (w_inc - w)\n",
        "print(w_rate)"
      ],
      "execution_count": 0,
      "outputs": [
        {
          "output_type": "stream",
          "text": [
            "0.061696206518688734\n"
          ],
          "name": "stdout"
        }
      ]
    },
    {
      "cell_type": "markdown",
      "metadata": {
        "id": "8h9ObmiOaMd7",
        "colab_type": "text"
      },
      "source": [
        "변화율이 음수일 때 가중치를 업데이트하는 방법\n",
        "(변화율이 0보다 작을 때 y_hat을 증가.)"
      ]
    },
    {
      "cell_type": "code",
      "metadata": {
        "id": "AlEoSqDYaYdY",
        "colab_type": "code",
        "outputId": "b88eed86-c410-42ca-cc6d-58d96533b270",
        "colab": {
          "base_uri": "https://localhost:8080/",
          "height": 34
        }
      },
      "source": [
        "w_new = w + w_rate\n",
        "print(w_new)"
      ],
      "execution_count": 0,
      "outputs": [
        {
          "output_type": "stream",
          "text": [
            "1.0616962065186888\n"
          ],
          "name": "stdout"
        }
      ]
    },
    {
      "cell_type": "markdown",
      "metadata": {
        "id": "Of_aMNJ5bdb1",
        "colab_type": "text"
      },
      "source": [
        "변화율로 절편 업데이트\n",
        "[ b에 대한 변화율을 구한 다음 변화 b를 업데이트 b를 0.1만큼 증가시킨 후 y_hat이 얼마나 증가하는 지 확인."
      ]
    },
    {
      "cell_type": "code",
      "metadata": {
        "id": "gSIHuJvTb0ZA",
        "colab_type": "code",
        "outputId": "4f5bb498-2a5c-4ff3-e09e-d1b38a5e0b64",
        "colab": {
          "base_uri": "https://localhost:8080/",
          "height": 51
        }
      },
      "source": [
        "b_inc = b + 0.1\n",
        "y_hat_inc = x[0]* w + b_inc\n",
        "print(y_hat_inc)  # 1.161\n",
        "\n",
        "b_rate = (y_hat_inc - y_hat) / (b_inc - b)\n",
        "print(b_rate)\n"
      ],
      "execution_count": 0,
      "outputs": [
        {
          "output_type": "stream",
          "text": [
            "1.1616962065186887\n",
            "1.0\n"
          ],
          "name": "stdout"
        }
      ]
    },
    {
      "cell_type": "code",
      "metadata": {
        "id": "GnUZS59IcQLT",
        "colab_type": "code",
        "outputId": "4b493f5f-9ea5-469b-8ef1-1f6cab7285db",
        "colab": {
          "base_uri": "https://localhost:8080/",
          "height": 34
        }
      },
      "source": [
        "b_new = b + 1\n",
        "print(b_new)"
      ],
      "execution_count": 0,
      "outputs": [
        {
          "output_type": "stream",
          "text": [
            "2.0\n"
          ],
          "name": "stdout"
        }
      ]
    },
    {
      "cell_type": "markdown",
      "metadata": {
        "id": "8_ZC6dEudkPq",
        "colab_type": "text"
      },
      "source": [
        "오차 역전파로 가중치와 절편을 더 적절하게 업그레이드 하기.\n",
        "\n",
        "x[0]일 때 w의 변화율과 b의 변화율에 오차를 곱한 다음 업데이트 된 w_new와 b_new를 출력."
      ]
    },
    {
      "cell_type": "code",
      "metadata": {
        "id": "vxVYtutAeSJv",
        "colab_type": "code",
        "outputId": "b4b7142c-613f-4bb6-bbec-2044f17b80e3",
        "colab": {
          "base_uri": "https://localhost:8080/",
          "height": 34
        }
      },
      "source": [
        "err = y[0] - y_hat\n",
        "w_new = w + w_rate * err\n",
        "b_new = b + 1 * err\n",
        "print(w_new, b_new)"
      ],
      "execution_count": 0,
      "outputs": [
        {
          "output_type": "stream",
          "text": [
            "10.250624555904514 150.9383037934813\n"
          ],
          "name": "stdout"
        }
      ]
    },
    {
      "cell_type": "markdown",
      "metadata": {
        "id": "PWGyZbIherI6",
        "colab_type": "text"
      },
      "source": [
        "x[1]을 사용하여 오차를 구하고 새로운 w와 b를 구하기.\n"
      ]
    },
    {
      "cell_type": "code",
      "metadata": {
        "id": "dyWu8R23exU6",
        "colab_type": "code",
        "outputId": "e91380f1-e7a6-4208-fdd3-8e5dda4a5979",
        "colab": {
          "base_uri": "https://localhost:8080/",
          "height": 34
        }
      },
      "source": [
        "y_hat = x[1] * w_new + b_new\n",
        "err = y[1] - y_hat\n",
        "w_reate = x[1]\n",
        "w_new = w_new + w_rate * err\n",
        "b_new = b_new + 1 * err\n",
        "print(w_new,b_new)"
      ],
      "execution_count": 0,
      "outputs": [
        {
          "output_type": "stream",
          "text": [
            "10.250624699916177 150.93830099572918\n"
          ],
          "name": "stdout"
        }
      ]
    },
    {
      "cell_type": "code",
      "metadata": {
        "id": "Mh77k4oYcwD6",
        "colab_type": "code",
        "colab": {}
      },
      "source": [
        ""
      ],
      "execution_count": 0,
      "outputs": []
    },
    {
      "cell_type": "code",
      "metadata": {
        "id": "lldwbrFRftmX",
        "colab_type": "code",
        "outputId": "996ceb4f-445e-4809-d424-87ebcf997768",
        "colab": {
          "base_uri": "https://localhost:8080/",
          "height": 34
        }
      },
      "source": [
        "#전체 샘플을 반복하기\n",
        "\n",
        "for x_i, y_i in zip(x,y):  #zip 함수는 여러 개의 배열에서 동시에 요소를 하나씩 꺼내줌.\n",
        "  y_hat = x_i * w  + b\n",
        "  err = y_i - y_hat\n",
        "  w_rate= x_i\n",
        "  w = w + w_rate * err\n",
        "  b = b + 1 * err\n",
        "print(w, b)"
      ],
      "execution_count": 0,
      "outputs": [
        {
          "output_type": "stream",
          "text": [
            "585.2273902155487 99.21510569782703\n"
          ],
          "name": "stdout"
        }
      ]
    },
    {
      "cell_type": "markdown",
      "metadata": {
        "id": "nts-2kE7gHe0",
        "colab_type": "text"
      },
      "source": [
        "전체 샘플을 시각화 시켜보기\n"
      ]
    },
    {
      "cell_type": "code",
      "metadata": {
        "id": "o_5CbysQgR2c",
        "colab_type": "code",
        "outputId": "514ad44d-21b8-489a-a777-1dc0e161b6d2",
        "colab": {
          "base_uri": "https://localhost:8080/",
          "height": 279
        }
      },
      "source": [
        "plt.scatter(x,y)\n",
        "pt1 = (-0.1, -0.1 * w + b)\n",
        "pt2 = (0.15, 0.15 * w + b)\n",
        "plt.plot([pt1[0], pt2[0]], [pt1[1], pt2[1]])\n",
        "plt.xlabel('x')\n",
        "plt.ylabel('y')\n",
        "plt.show()\n"
      ],
      "execution_count": 0,
      "outputs": [
        {
          "output_type": "display_data",
          "data": {
            "image/png": "[encoded data removed]",
            "text/plain": [
              "<Figure size 432x288 with 1 Axes>"
            ]
          },
          "metadata": {
            "tags": []
          }
        }
      ]
    },
    {
      "cell_type": "markdown",
      "metadata": {
        "id": "e0_E0rMcg-ai",
        "colab_type": "text"
      },
      "source": [
        "여러 에포크를 반복."
      ]
    },
    {
      "cell_type": "code",
      "metadata": {
        "id": "S0aJLIueg_wj",
        "colab_type": "code",
        "outputId": "f0e56fb3-09e9-49eb-a29d-cb1ac6bc23b6",
        "colab": {
          "base_uri": "https://localhost:8080/",
          "height": 34
        }
      },
      "source": [
        "for i in range(1, 100):\n",
        "  for x_i, y_i in zip(x,y):\n",
        "    y_hat = x_i * w + b\n",
        "    err = y_i - y_hat\n",
        "    w_rate = x_i\n",
        "    w = w + w_rate * err\n",
        "    b = b + 1 * err\n",
        "print(w, b)"
      ],
      "execution_count": 0,
      "outputs": [
        {
          "output_type": "stream",
          "text": [
            "909.4864039462036 123.09144136296428\n"
          ],
          "name": "stdout"
        }
      ]
    },
    {
      "cell_type": "code",
      "metadata": {
        "id": "7RXzrgitf-El",
        "colab_type": "code",
        "outputId": "7275a4af-195a-4402-db12-a52c5f074587",
        "colab": {
          "base_uri": "https://localhost:8080/",
          "height": 279
        }
      },
      "source": [
        "plt.scatter(x,y)\n",
        "pt1 = (-0.1, -0.1 * w + b)\n",
        "pt2 = (0.15, 0.15 * w + b)\n",
        "plt.plot([pt1[0], pt2[0]], [pt1[1], pt2[1]])\n",
        "plt.xlabel('x')\n",
        "plt.ylabel('y')\n",
        "plt.show()\n"
      ],
      "execution_count": 0,
      "outputs": [
        {
          "output_type": "display_data",
          "data": {
            "image/png": "[encoded data removed]",
            "text/plain": [
              "<Figure size 432x288 with 1 Axes>"
            ]
          },
          "metadata": {
            "tags": []
          }
        }
      ]
    },
    {
      "cell_type": "markdown",
      "metadata": {
        "id": "DBjT11uGiQrt",
        "colab_type": "text"
      },
      "source": [
        "모델로 예측"
      ]
    },
    {
      "cell_type": "code",
      "metadata": {
        "id": "xTKgjluIiR0A",
        "colab_type": "code",
        "outputId": "883a4dd4-8abe-471e-e05d-a9bbf5b7a7c8",
        "colab": {
          "base_uri": "https://localhost:8080/",
          "height": 34
        }
      },
      "source": [
        "x_new = 0.18\n",
        "y_pred = x_new * w + b\n",
        "print(y_pred)"
      ],
      "execution_count": 0,
      "outputs": [
        {
          "output_type": "stream",
          "text": [
            "286.79899407328094\n"
          ],
          "name": "stdout"
        }
      ]
    },
    {
      "cell_type": "markdown",
      "metadata": {
        "id": "totE4WCeimPD",
        "colab_type": "text"
      },
      "source": [
        "지금까지의 학습 방법 TPL\n",
        "\n",
        "1. w와 b를 임의의 값(1.0, 1.0)으로 초기화하고 훈련 데이터의 샘플을 하나씩 대입하여 y와 ^y의 오차를 구함\n",
        "2. 1에서 구한 오차를 w와 b의 변화율에 곱하고 이 값을 이용하여 w와 b를 업데이트\n",
        "3. 만약에 ^y이 y보다 커지면 오차는 음수가 되어 자동으로 w와 b가 줄어드는 방향으로 업데이트\n",
        "4. 반대로 ^y이 y보다 오차는 양수가 되고 w와 b는 더 커지도록 업로등."
      ]
    }
  ]
}