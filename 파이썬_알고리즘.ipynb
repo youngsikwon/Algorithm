{
  "nbformat": 4,
  "nbformat_minor": 0,
  "metadata": {
    "colab": {
      "name": "파이썬 알고리즘.ipynb",
      "provenance": [],
      "authorship_tag": "ABX9TyN01pSRDyG+1bv69rzIdwGr",
      "include_colab_link": true
    },
    "kernelspec": {
      "name": "python3",
      "display_name": "Python 3"
    }
  },
  "cells": [
    {
      "cell_type": "markdown",
      "metadata": {
        "id": "view-in-github",
        "colab_type": "text"
      },
      "source": [
        "<a href=\"https://colab.research.google.com/github/youngsikwon/Algorithm/blob/master/%ED%8C%8C%EC%9D%B4%EC%8D%AC_%EC%95%8C%EA%B3%A0%EB%A6%AC%EC%A6%98.ipynb\" target=\"_parent\"><img src=\"https://colab.research.google.com/assets/colab-badge.svg\" alt=\"Open In Colab\"/></a>"
      ]
    },
    {
      "cell_type": "markdown",
      "metadata": {
        "id": "R6t6sPMWEr8x",
        "colab_type": "text"
      },
      "source": [
        "# Python 알고리즘 Beginer"
      ]
    },
    {
      "cell_type": "markdown",
      "metadata": {
        "id": "2pIBAY6F0euD",
        "colab_type": "text"
      },
      "source": [
        "> 파이썬으로 프로그래머스 풀기 :: 다리를 지나는 트럭\n",
        "\n",
        "## 문제 설명\n",
        " \n",
        " -> 트럭 여러 대가 강을 가로지르는 일 차선 다리를 정해진 순으로 건너려 합니다. 모든 트럭이 다리를 건너려면 최소 몇 초가 걸리는지 알아내야 합니다. 트럭은 1초에 1만큼 움직이며, 다리 길이는 bridge_length이고 다리는 무게 weigth까지 견딥니다.\n",
        "\n",
        " * 트럭이 다리에 완전히 오르지 않은 경우, 이 트럭의 무게는 고려하지 않습니다. 예를들어, 길이가 2이고 10kg 무게를 견디는 다리가 있습니다. 무게가[7,4,5,6]kg인 트럭이 순서대로 최단 시간 안에 다리를 건너려면 다음과 같이 건너야 합니다.\n",
        "\n",
        "경과 시간\t다리를 지난 트럭\t다리를 건너는 트럭\t대기 트럭\n",
        "0\t[]\t[]\t[7,4,5,6]\n",
        "1~2\t[]\t[7]\t[4,5,6]\n",
        "3\t[7]\t[4]\t[5,6]\n",
        "4\t[7]\t[4,5]\t[6]\n",
        "5\t[7,4]\t[5]\t[6]\n",
        "6~7\t[7,4,5]\t[6]\t[]\n",
        "8\t[7,4,5,6]\t[]\t[]\n",
        "\n",
        "따라서, 모든 트럭이 다리를 지나려면 최소 8초가 걸립니다.\n",
        "\n",
        "solution 함수의 매개변수로 다리 길이 bridge_length, 다리가 견딜 수 있는 무게 weight, 트럭별 무게 truck_weights가 주어집니다. 이때 모든 트럭이 다리를 건너려면 최소 몇 초가 걸리는지 return 하도록 solution 함수를 완성하세요.\n",
        " "
      ]
    },
    {
      "cell_type": "code",
      "metadata": {
        "id": "MmsCM4Dh1gWf",
        "colab_type": "code",
        "colab": {}
      },
      "source": [
        "from collections import deque\n",
        "\n",
        "\n",
        "def solution(bridge_length, weight, truck_weights):\n",
        "    sec = 1  # 처음부터 트럭을 다리에 올린다.\n",
        "    s = truck_weights[0]  # 다리에 올라간 트럭의 총 무게\n",
        "    truck_weights = deque(truck_weights)  # deque 자료구조화\n",
        "    trucks_on_bridge = deque([[truck_weights[0], 1]])  # 다리에 올라간 트럭을 구분. (트럭 무게, 해당 트럭이 다리 위에 있는 시간)\n",
        "    truck_idx = 1  # 다음에 다리에 오를 트럭을 가리킴\n",
        "    while truck_weights:  # 올릴 트럭이 남아 있는 동안 반복\n",
        "        sec += 1  # 1초 증가\n",
        "        if truck_idx < len(truck_weights):  # 트럭을 이미 다 올려 트럭이 없으면 다리에 트럭 안올림\n",
        "            if s + truck_weights[truck_idx] <= weight:  # 지금 올려야하는 트럭과 다리 위 트럭 무게 총합이 weight 이하면\n",
        "                s += truck_weights[truck_idx]  # 트럭 올리기\n",
        "                trucks_on_bridge.append([truck_weights[truck_idx], 0])  # 무게, 초\n",
        "                truck_idx += 1  # 다음 트럭 가리킴\n",
        "        for truck in trucks_on_bridge:  # 다리 위에 있는 모든 트럭에 대해\n",
        "            truck[1] += 1  # 각 트럭이 다리 위에서 이동한 시간 1초 증가. 즉, 1칸 이동\n",
        "        if trucks_on_bridge and trucks_on_bridge[0][1] == bridge_length:  # 맨 끝에 있는 트럭이 다리를 다 지났다면\n",
        "            s -= trucks_on_bridge[0][0]  # 다리를 통과한 트럭 무게는 다리에 있는 트럭 무게 총합에서 빼기\n",
        "            trucks_on_bridge.popleft()  # 다리 위 트럭 빼기\n",
        "            truck_weights.popleft()  # 트럭 빼기\n",
        "            truck_idx -= 1  # 트럭이 빠졌으므로 인덱스를 -1만큼 옮겨 다음에 올릴 트럭 포인터 유지하기\n",
        "    sec += 1\n",
        "    return sec\n",
        "\n"
      ],
      "execution_count": 0,
      "outputs": []
    },
    {
      "cell_type": "markdown",
      "metadata": {
        "id": "WRfRrPA95TG5",
        "colab_type": "text"
      },
      "source": [
        "# 다른 사람 풀이"
      ]
    },
    {
      "cell_type": "code",
      "metadata": {
        "id": "3q3z7czz5VLY",
        "colab_type": "code",
        "colab": {}
      },
      "source": [
        ""
      ],
      "execution_count": 0,
      "outputs": []
    }
  ]
}