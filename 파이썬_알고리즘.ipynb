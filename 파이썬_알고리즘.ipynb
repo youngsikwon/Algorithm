{
  "nbformat": 4,
  "nbformat_minor": 0,
  "metadata": {
    "colab": {
      "name": "파이썬 알고리즘.ipynb",
      "provenance": [],
      "authorship_tag": "ABX9TyOur7mxNsyeL8kHY5wgAnRG",
      "include_colab_link": true
    },
    "kernelspec": {
      "name": "python3",
      "display_name": "Python 3"
    }
  },
  "cells": [
    {
      "cell_type": "markdown",
      "metadata": {
        "id": "view-in-github",
        "colab_type": "text"
      },
      "source": [
        "<a href=\"https://colab.research.google.com/github/youngsikwon/Algorithm/blob/master/%ED%8C%8C%EC%9D%B4%EC%8D%AC_%EC%95%8C%EA%B3%A0%EB%A6%AC%EC%A6%98.ipynb\" target=\"_parent\"><img src=\"https://colab.research.google.com/assets/colab-badge.svg\" alt=\"Open In Colab\"/></a>"
      ]
    },
    {
      "cell_type": "markdown",
      "metadata": {
        "id": "R6t6sPMWEr8x",
        "colab_type": "text"
      },
      "source": [
        "# Python 알고리즘 Beginer"
      ]
    },
    {
      "cell_type": "code",
      "metadata": {
        "id": "tMgC7IVNQFhf",
        "colab_type": "code",
        "colab": {}
      },
      "source": [
        "# 두 정수 A와 B를 입력받은 다음, A + B를 출력하는  프로그램 작성하시오.\n",
        "\n",
        "\n",
        "a, b = map(int, input().split())\n",
        "print(a+b)"
      ],
      "execution_count": 0,
      "outputs": []
    }
  ]
}