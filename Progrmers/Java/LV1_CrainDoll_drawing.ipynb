{
  "nbformat": 4,
  "nbformat_minor": 0,
  "metadata": {
    "colab": {
      "name": "LV1_CrainDoll_drawing.ipynb",
      "provenance": [],
      "authorship_tag": "ABX9TyOqRXR+x5NerEabHyQaLnEu"
    },
    "kernelspec": {
      "name": "python3",
      "display_name": "Python 3"
    }
  },
  "cells": [
    {
      "cell_type": "markdown",
      "metadata": {
        "id": "_McPB-4pCmz-",
        "colab_type": "text"
      },
      "source": [
        "### LV1 _ 크레인 인형뽑기 게임 \n",
        "\n",
        "![대체 텍스트](https://img1.daumcdn.net/thumb/R1280x0/?scode=mtistory2&fname=https%3A%2F%2Fblog.kakaocdn.net%2Fdn%2FcgUO6a%2FbtqC5pCr5gg%2FupQdEQCh0LWZMAdOlZQqY1%2Fimg.png)\n",
        "\n",
        "![대체 텍스트](https://img1.daumcdn.net/thumb/R1280x0/?scode=mtistory2&fname=https%3A%2F%2Fblog.kakaocdn.net%2Fdn%2Fu9fkt%2FbtqC5n5GKyv%2FvzPB5Yjlljz0gwKum54Uz0%2Fimg.png)\n",
        "\n",
        "![대체 텍스트](https://img1.daumcdn.net/thumb/R1280x0/?scode=mtistory2&fname=https%3A%2F%2Fblog.kakaocdn.net%2Fdn%2FcgPKU2%2FbtqC6kVdgx2%2FQwwcFrWfuBFVKZOxrKkkTK%2Fimg.png)\n",
        "\n",
        "![대체 텍스트](https://img1.daumcdn.net/thumb/R1280x0/?scode=mtistory2&fname=https%3A%2F%2Fblog.kakaocdn.net%2Fdn%2FpotCD%2FbtqC5ph9weV%2FLMT46y2hnjySAQWV37DU1K%2Fimg.png)\n",
        "\n",
        "![대체 텍스트](https://img1.daumcdn.net/thumb/R1280x0/?scode=mtistory2&fname=https%3A%2F%2Fblog.kakaocdn.net%2Fdn%2FbdxdCC%2FbtqC3qWwSFo%2FPz4IlGNXpL03Yd7DimPl01%2Fimg.png)\n",
        "\n",
        "![대체 텍스트](https://img1.daumcdn.net/thumb/R1280x0/?scode=mtistory2&fname=https%3A%2F%2Fblog.kakaocdn.net%2Fdn%2FkBZE8%2FbtqC7qAz5Sl%2FOsGRKiu1wjwAsBsKAcazt1%2Fimg.gif)"
      ]
    },
    {
      "cell_type": "code",
      "metadata": {
        "id": "JAdAlRE-GePZ",
        "colab_type": "code",
        "colab": {}
      },
      "source": [
        "import java.util.Stack;\n",
        "\n",
        "class Solution {\n",
        "\tpublic static int solution(int[][] board, int[] moves) {\n",
        "\t\tint answer = 0;\n",
        "\t\tStack<Integer> s = new Stack<Integer>();\n",
        "\t\tfor(int i=0; i<moves.length; i++) {\n",
        "\t\t\tfor(int j=0; j<board.length; j++) {\n",
        "\t\t\t\t#\n",
        "\t\t\t\t# 해당 칸에 인형이 존재하는경우\n",
        "\t\t\t\t# ↓ 아래로 내려가므로 행의 값이 계속 바껴야함 (0,0), (1,0), (2,0) ...\n",
        "\t\t\t  # moves배열에 있는 요소를 board[][] 배열의 '열' 값에 넣어서 비교\n",
        "\t\t\t\t# 배열의 인덱스는 0부터 시작하므로 -1\n",
        "\t\t\t\t# \n",
        "\t\t\t\tif(board[j][moves[i]-1] != 0) {\n",
        "\t\t\t\t\t\n",
        "\t\t\t\t\t# 스택이 비어있는경우 -> 해당 인형 넣기\n",
        "\t\t\t\t\tif(s.isEmpty())\n",
        "\t\t\t\t\t\ts.push(board[j][moves[i]-1]);\n",
        "\t\t\t\t\t\n",
        "\t\t\t\t\t# 스택이 비어있지 않는경우 -> 인형이 동일한지 아닌지 비교\n",
        "\t\t\t\t\telse {\n",
        "\t\t\t\t\t\t# 인형이 동일하면 제거 후 사라진 인형개수 +2\n",
        "\t\t\t\t\t\tif(s.peek() == board[j][moves[i]-1]) {\n",
        "\t\t\t\t\t\t\ts.pop();\n",
        "\t\t\t\t\t\t\tanswer += 2;\n",
        "\t\t\t\t\t\t}\n",
        "\t\t\t\t\t\t# 인형이 동일하지 않으면 스택에 인형 넣기\n",
        "\t\t\t\t\t\telse {\n",
        "\t\t\t\t\t\t\ts.push(board[j][moves[i]-1]);\n",
        "\t\t\t\t\t\t}\n",
        "\t\t\t\t\t}\n",
        "\t\t\t\t\t# 해당 작업 끝난 후에는 인형을 빼냈으므로 0으로 만든다.(인형이 없다는 표시)\n",
        "\t\t\t\t\tboard[j][moves[i]-1] = 0;\n",
        "\t\t\t\t\tbreak;\n",
        "\t\t\t\t}\n",
        "\t\t\t}\n",
        "\t\t}\n",
        "\t\treturn answer;\n",
        "\t}\n",
        "}"
      ],
      "execution_count": null,
      "outputs": []
    },
    {
      "cell_type": "markdown",
      "metadata": {
        "id": "qreObya2D6rP",
        "colab_type": "text"
      },
      "source": [
        "- 풀이\n",
        " - 문제로부터 한개씩 제거가 되고, 벽이 막혀있어서 Stack을 활용하라고 하는 것 같아, 스택을 사용했다.\n",
        "  - 간단히 설명 & 풀이 하면 다음과 같다.\n",
        "  - board [] [] 2차원 배열에 인형의 종류가 숫자로 주어진다 . 0 ~ 100\n",
        "  - movers[] 1차원 배열에는 몇번째 행의 인형을 빼오건지 나타낸다.\n",
        "\n",
        "\n",
        "- 1) movers[] 배열에 있는 요소중 board[][]의 가장 위에 있는 인형을 제거한다.\n",
        " - board[][] 배열의 행을 기준으로 판단을 해야 하기 때문에 movers[]배열의 값을 기준으로 아래로 비교하며 탐색해야한다. 값이 0일경우 인형이 없는거로 판단, 주석 참고)\n",
        "\n",
        "- 2) 스택이 비어있으면 스택에 쌓고.\n",
        "\n",
        "- 3) 스택이 비어있찌 않으면 스택에 쌓을지 스택에서 제거할지만 판단해주면 된다.\n",
        "  - 현재 스택에 쌓인 인형과 동일한 인형일 경우 -> 스택에서 제거 후 제거한 인형 갯수 +2\n",
        "  - 현재 스택에 쌓인 인형과 다른 인형일 경우 -> 스택에 그대로 쌓으면 된다.\n",
        "\n",
        "\n",
        " "
      ]
    }
  ]
}
