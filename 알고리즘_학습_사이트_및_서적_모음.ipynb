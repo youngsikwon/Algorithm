{
  "nbformat": 4,
  "nbformat_minor": 0,
  "metadata": {
    "colab": {
      "name": "알고리즘 학습 사이트 및 서적 모음.ipynb",
      "provenance": [],
      "authorship_tag": "ABX9TyMIMe6BYHAYpFCx/reKRpZj",
      "include_colab_link": true
    },
    "kernelspec": {
      "name": "python3",
      "display_name": "Python 3"
    }
  },
  "cells": [
    {
      "cell_type": "markdown",
      "metadata": {
        "id": "view-in-github",
        "colab_type": "text"
      },
      "source": [
        "<a href=\"https://colab.research.google.com/github/youngsikwon/Algorithm/blob/master/%EC%95%8C%EA%B3%A0%EB%A6%AC%EC%A6%98_%ED%95%99%EC%8A%B5_%EC%82%AC%EC%9D%B4%ED%8A%B8_%EB%B0%8F_%EC%84%9C%EC%A0%81_%EB%AA%A8%EC%9D%8C.ipynb\" target=\"_parent\"><img src=\"https://colab.research.google.com/assets/colab-badge.svg\" alt=\"Open In Colab\"/></a>"
      ]
    },
    {
      "cell_type": "markdown",
      "metadata": {
        "id": "_DvCDEBUk75V",
        "colab_type": "text"
      },
      "source": [
        "# 온라인 저지 (Online Judge)\n",
        "> 프로그래밍 문제를 풀고 온라인으로 채점할 수 있는 곳.<br>\n",
        "[Baekjoon Online Judge](https://www.acmicpc.net/)<br>\n",
        "[알고리즘 트레이닝 사이트](http://59.23.150.58/)<br>\n",
        "[ALGOSPOT ](https://algospot.com/)<br>\n",
        "[LeetCode online judge](https://leetcode.com/problemset/algorithms/)<br>\n",
        "[ALGOSPOT ](https://algospot.com/)<br>\n",
        "\n",
        "# 알고리즘 추천 도서\n",
        "\n",
        "> [프로그래밍 대회에서 배우는 알고리즘 문제 해결 전략 ](https://book.algospot.com/)<br>\n",
        "[문제로 풀어보는 알고리즘 : 프로그래밍 트레이닝 Q&A ](http://ebook.insightbook.co.kr/)<br>\n",
        "[알기 쉬운 알고리즘 ](http://www.yes24.com/Product/goods/8410973?scode=029)<br>\n",
        "[이렇게 하면 나도 프로그램을 잘 만들 수 있다 알고리즘은 어덯게 만들까 ](http://www.kyobobook.co.kr/product/detailViewKor.laf?mallGb=KOR&ejkGb=KOR&barcode=9791195294817)<br>\n",
        "[파이썬을 이용한 알고리즘 구현 ](https://runestone.academy/runestone/books/published/pythonds/index.html)<br>\n",
        "[미래를 바꾼 아홉가지 알고리즘 ](http://www.acornpub.co.kr/book/9algorithms)<br>\n",
        "\n",
        "\n",
        "# 정구진 추천 사이트\n",
        "> [알고리즘 대회 스케줄 ](http://www.acornpub.co.kr/book/9algorithms) - 알고스팟\n",
        " - 알고리즘 대회 스케줄\n",
        " - 주기적으로 대회 하고 있음.\n",
        "<br>\n",
        "\n",
        "> [프로그래밍 대회에서 배우는 알고리즘 문제 해결 전략 ](https://book.algospot.com/)<br>\n",
        "\n",
        "\n",
        "\n",
        " \n",
        "\n",
        "\n",
        "\n",
        "\n"
      ]
    }
  ]
}